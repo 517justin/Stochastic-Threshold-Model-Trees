{
 "cells": [
  {
   "cell_type": "code",
   "execution_count": 4,
   "metadata": {},
   "outputs": [],
   "source": [
    "import sys\n",
    "sys.path.append('..')\n",
    "\n",
    "from StochasticThresholdModelTree.regressor.stmt import StochasticThresholdModelTree\n",
    "from StochasticThresholdModelTree.threshold_selector import NormalGaussianDistribution\n",
    "from StochasticThresholdModelTree.criterion import MSE\n",
    "import pandas as pd\n",
    "from sklearn.linear_model import LinearRegression\n",
    "from sklearn.model_selection import train_test_split"
   ]
  },
  {
   "cell_type": "code",
   "execution_count": 5,
   "metadata": {},
   "outputs": [],
   "source": [
    "model = StochasticThresholdModelTree(\n",
    "  n_estimators=100, # The number of regression trees to create\n",
    "  criterion=MSE(), # Criteria for setting divisional boundaries\n",
    "  regressor=LinearRegression(), # Regression model applied to each terminal node\n",
    "  threshold_selector=NormalGaussianDistribution(5), # Parameters for determining the candidate division boundary\n",
    "  min_samples_leaf=1.0, # Minimum number of samples required to make up a node\n",
    "  max_features='auto', # Number of features to consider for optimal splitting\n",
    "  f_select=True, # Whether or not to choose features to consider when splitting\n",
    "  ensemble_pred='median', # During the ensemble, whether to take the mean or the median\n",
    "  scaling=False, # Whether to perform standardization as a pre-processing to each terminal node\n",
    "  random_state=None\n",
    "  )"
   ]
  },
  {
   "cell_type": "code",
   "execution_count": 6,
   "metadata": {},
   "outputs": [],
   "source": [
    "data = pd.read_csv('../data/logSdataset1290.csv', index_col=0)\n",
    "X = data[data.columns[1:]]\n",
    "y = data[data.columns[0]]\n",
    "X_train, X_test, y_train, y_test = train_test_split(X, y, test_size=0.3)"
   ]
  },
  {
   "cell_type": "code",
   "execution_count": null,
   "metadata": {},
   "outputs": [],
   "source": [
    "model.fit(X_train, y_train)\n",
    "y_pred = model.predict(X_test) # Model predictions"
   ]
  }
 ],
 "metadata": {
  "kernelspec": {
   "display_name": "Environment (conda_py3.7)",
   "language": "python",
   "name": "conda_py3.7"
  },
  "language_info": {
   "codemirror_mode": {
    "name": "ipython",
    "version": 3
   },
   "file_extension": ".py",
   "mimetype": "text/x-python",
   "name": "python",
   "nbconvert_exporter": "python",
   "pygments_lexer": "ipython3",
   "version": "3.7.4"
  }
 },
 "nbformat": 4,
 "nbformat_minor": 2
}
